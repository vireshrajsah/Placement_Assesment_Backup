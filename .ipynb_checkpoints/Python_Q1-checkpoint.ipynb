{
 "cells": [
  {
   "cell_type": "markdown",
   "metadata": {},
   "source": [
    "# Question 1:\n",
    "Write a program that takes a string as input, and counts the frequency of each word in the string, there might be repeated characters in the string. Your task is to find the highest frequency and returns the length of the highest-frequency word."
   ]
  },
  {
   "cell_type": "code",
   "execution_count": 5,
   "metadata": {},
   "outputs": [
    {
     "name": "stdout",
     "output_type": "stream",
     "text": [
      "Enter a string:\twrite write write all the number from from from 1 to 100\n",
      "Word: 'number' \t Frequency: 1\n",
      "Word: 'write' \t Frequency: 3\n",
      "Word: 'the' \t Frequency: 1\n",
      "Word: 'from' \t Frequency: 3\n",
      "Word: 'all' \t Frequency: 1\n",
      "Word: 'to' \t Frequency: 1\n",
      "Word: '1' \t Frequency: 2\n",
      "Word: '100' \t Frequency: 1\n"
     ]
    }
   ],
   "source": [
    "def count_word_frequency(s:str):\n",
    "    word_frequency = dict()\n",
    "    word_list = list(set(s.split(' ')))\n",
    "    for word in word_list:\n",
    "        word_frequency[word] = s.count(word)\n",
    "    \n",
    "    return word_frequency\n",
    "\n",
    "input_str = input(\"Enter a string:\\t\")\n",
    "word_frequency = count_word_frequency(input_str)\n",
    "\n",
    "for word, frequency in word_frequency.items():\n",
    "    print(f\"Word: '{word}' \\t Frequency: {frequency}\")"
   ]
  }
 ],
 "metadata": {
  "kernelspec": {
   "display_name": "Python 3",
   "language": "python",
   "name": "python3"
  },
  "language_info": {
   "codemirror_mode": {
    "name": "ipython",
    "version": 3
   },
   "file_extension": ".py",
   "mimetype": "text/x-python",
   "name": "python",
   "nbconvert_exporter": "python",
   "pygments_lexer": "ipython3",
   "version": "3.8.5"
  }
 },
 "nbformat": 4,
 "nbformat_minor": 2
}
