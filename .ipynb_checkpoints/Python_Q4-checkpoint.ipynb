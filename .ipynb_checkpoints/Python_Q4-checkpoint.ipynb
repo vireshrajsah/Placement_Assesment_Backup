{
 "cells": [
  {
   "cell_type": "markdown",
   "metadata": {},
   "source": [
    "# Question 4 -\n",
    "Write a program to download the data from the link given below and then read the data and convert the into\n",
    "the proper structure and return it as a CSV file.\n",
    "\n",
    "Link - https://data.nasa.gov/resource/y77d-th95.json"
   ]
  },
  {
   "cell_type": "code",
   "execution_count": 12,
   "metadata": {},
   "outputs": [
    {
     "name": "stdout",
     "output_type": "stream",
     "text": [
      "       name   id nametype     recclass    mass  fall                     year  \\\n",
      "0    Aachen    1    Valid           L5      21  Fell  1880-01-01T00:00:00.000   \n",
      "1    Aarhus    2    Valid           H6     720  Fell  1951-01-01T00:00:00.000   \n",
      "2      Abee    6    Valid          EH4  107000  Fell  1952-01-01T00:00:00.000   \n",
      "3  Acapulco   10    Valid  Acapulcoite    1914  Fell  1976-01-01T00:00:00.000   \n",
      "4   Achiras  370    Valid           L6     780  Fell  1902-01-01T00:00:00.000   \n",
      "\n",
      "       reclat      reclong                                        geolocation  \\\n",
      "0   50.775000     6.083330  {'type': 'Point', 'coordinates': [6.08333, 50....   \n",
      "1   56.183330    10.233330  {'type': 'Point', 'coordinates': [10.23333, 56...   \n",
      "2   54.216670  -113.000000  {'type': 'Point', 'coordinates': [-113, 54.216...   \n",
      "3   16.883330   -99.900000  {'type': 'Point', 'coordinates': [-99.9, 16.88...   \n",
      "4  -33.166670   -64.950000  {'type': 'Point', 'coordinates': [-64.95, -33....   \n",
      "\n",
      "  :@computed_region_cbhk_fwbd :@computed_region_nnqa_25f4  \n",
      "0                         NaN                         NaN  \n",
      "1                         NaN                         NaN  \n",
      "2                         NaN                         NaN  \n",
      "3                         NaN                         NaN  \n",
      "4                         NaN                         NaN  \n"
     ]
    }
   ],
   "source": [
    "from urllib.request import urlopen\n",
    "import json\n",
    "from pprint import pprint\n",
    "\n",
    "def json_bytes_to_csv(url:str, output_file:str)->None:\n",
    "    raw_data = urlopen(url).read()                     # using the urlopen to get the raw json data through secure SSL gateway\n",
    "\n",
    "    string_data = raw_data.decode('utf-8')             # we received data in a bytestream. Encoding it using utf-8\n",
    "\n",
    "    parsed_json = json.loads(string_data)              # parsing the data to json\n",
    "\n",
    "    df = pd.DataFrame(parsed_json)                     # converting parsed json to dataframe\n",
    "\n",
    "    pprint (df.head())                                 # printing sample data on the console for validation\n",
    "    \n",
    "    df.to_csv(output_file, index = False)              # converting json to csv\n",
    "\n",
    "if __name__ == \"__main__\":\n",
    "    url = 'https://data.nasa.gov/resource/y77d-th95.json'\n",
    "    output_file = 'nasa.csv'\n",
    "    \n",
    "    json_bytes_to_csv(url, output_file)"
   ]
  }
 ],
 "metadata": {
  "kernelspec": {
   "display_name": "Python 3",
   "language": "python",
   "name": "python3"
  },
  "language_info": {
   "codemirror_mode": {
    "name": "ipython",
    "version": 3
   },
   "file_extension": ".py",
   "mimetype": "text/x-python",
   "name": "python",
   "nbconvert_exporter": "python",
   "pygments_lexer": "ipython3",
   "version": "3.8.5"
  }
 },
 "nbformat": 4,
 "nbformat_minor": 4
}
