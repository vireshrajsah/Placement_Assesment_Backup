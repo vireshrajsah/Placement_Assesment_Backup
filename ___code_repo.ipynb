{
 "cells": [
  {
   "cell_type": "code",
   "execution_count": null,
   "metadata": {},
   "outputs": [],
   "source": [
    "# Q6 insight 4\n",
    "\n",
    "temp = df [['num', 'name', 'prev_evolution', 'next_evolution']].fillna('[]')\n",
    "temp['prev_evolution'] = temp ['prev_evolution'].apply(lambda x :literal_evaluation(x) if x == '[]' else x)\n",
    "temp['next_evolution'] = temp ['next_evolution'].apply(lambda x :literal_evaluation(x) if x == '[]' else x)\n",
    "temp['evolution_list'] = temp.prev_evolution + temp.next_evolution\n",
    "\n",
    "\n",
    "def get_full_evolution_list(row):\n",
    "    current_state = {'num':f'{row.num:0>3d}', 'name':row.name}\n",
    "    full_evolution_list = row.apply(lambda x: sorted(x.append(current_state)))\n",
    "    return full_evolution_list\n",
    "\n",
    "full_evolution_list = []\n",
    "\n",
    "for rowindex in temp.index:\n",
    "    row = temp.iloc[rowindex]\n",
    "    full_evolution_list.append(get_full_evolution_list(row))\n",
    "    \n",
    "temp['full_evolution_list'] = full_evolution_list\n",
    "temp"
   ]
  }
 ],
 "metadata": {
  "kernelspec": {
   "display_name": "Python 3",
   "language": "python",
   "name": "python3"
  },
  "language_info": {
   "codemirror_mode": {
    "name": "ipython",
    "version": 3
   },
   "file_extension": ".py",
   "mimetype": "text/x-python",
   "name": "python",
   "nbconvert_exporter": "python",
   "pygments_lexer": "ipython3",
   "version": "3.8.5"
  }
 },
 "nbformat": 4,
 "nbformat_minor": 4
}
